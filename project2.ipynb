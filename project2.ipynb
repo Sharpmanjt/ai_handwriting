{
 "cells": [
  {
   "cell_type": "code",
   "execution_count": 334,
   "metadata": {},
   "outputs": [
    {
     "data": {
      "text/html": [
       "<div>\n",
       "<style scoped>\n",
       "    .dataframe tbody tr th:only-of-type {\n",
       "        vertical-align: middle;\n",
       "    }\n",
       "\n",
       "    .dataframe tbody tr th {\n",
       "        vertical-align: top;\n",
       "    }\n",
       "\n",
       "    .dataframe thead th {\n",
       "        text-align: right;\n",
       "    }\n",
       "</style>\n",
       "<table border=\"1\" class=\"dataframe\">\n",
       "  <thead>\n",
       "    <tr style=\"text-align: right;\">\n",
       "      <th></th>\n",
       "      <th>player_score</th>\n",
       "      <th>comp_score</th>\n",
       "      <th>computerHasAce</th>\n",
       "    </tr>\n",
       "  </thead>\n",
       "  <tbody>\n",
       "    <tr>\n",
       "      <th>0</th>\n",
       "      <td>12</td>\n",
       "      <td>19</td>\n",
       "      <td>0</td>\n",
       "    </tr>\n",
       "    <tr>\n",
       "      <th>1</th>\n",
       "      <td>20</td>\n",
       "      <td>9</td>\n",
       "      <td>0</td>\n",
       "    </tr>\n",
       "    <tr>\n",
       "      <th>2</th>\n",
       "      <td>19</td>\n",
       "      <td>18</td>\n",
       "      <td>1</td>\n",
       "    </tr>\n",
       "    <tr>\n",
       "      <th>3</th>\n",
       "      <td>19</td>\n",
       "      <td>17</td>\n",
       "      <td>0</td>\n",
       "    </tr>\n",
       "    <tr>\n",
       "      <th>4</th>\n",
       "      <td>12</td>\n",
       "      <td>20</td>\n",
       "      <td>0</td>\n",
       "    </tr>\n",
       "    <tr>\n",
       "      <th>...</th>\n",
       "      <td>...</td>\n",
       "      <td>...</td>\n",
       "      <td>...</td>\n",
       "    </tr>\n",
       "    <tr>\n",
       "      <th>10328</th>\n",
       "      <td>7</td>\n",
       "      <td>17</td>\n",
       "      <td>0</td>\n",
       "    </tr>\n",
       "    <tr>\n",
       "      <th>10329</th>\n",
       "      <td>17</td>\n",
       "      <td>14</td>\n",
       "      <td>0</td>\n",
       "    </tr>\n",
       "    <tr>\n",
       "      <th>10330</th>\n",
       "      <td>17</td>\n",
       "      <td>17</td>\n",
       "      <td>0</td>\n",
       "    </tr>\n",
       "    <tr>\n",
       "      <th>10331</th>\n",
       "      <td>20</td>\n",
       "      <td>18</td>\n",
       "      <td>1</td>\n",
       "    </tr>\n",
       "    <tr>\n",
       "      <th>10332</th>\n",
       "      <td>6</td>\n",
       "      <td>14</td>\n",
       "      <td>0</td>\n",
       "    </tr>\n",
       "  </tbody>\n",
       "</table>\n",
       "<p>10333 rows × 3 columns</p>\n",
       "</div>"
      ],
      "text/plain": [
       "       player_score  comp_score  computerHasAce\n",
       "0                12          19               0\n",
       "1                20           9               0\n",
       "2                19          18               1\n",
       "3                19          17               0\n",
       "4                12          20               0\n",
       "...             ...         ...             ...\n",
       "10328             7          17               0\n",
       "10329            17          14               0\n",
       "10330            17          17               0\n",
       "10331            20          18               1\n",
       "10332             6          14               0\n",
       "\n",
       "[10333 rows x 3 columns]"
      ]
     },
     "execution_count": 334,
     "metadata": {},
     "output_type": "execute_result"
    }
   ],
   "source": [
    "from matplotlib import pyplot as plt\n",
    "import pandas as pd\n",
    "data = pd.read_csv('data.csv', usecols=['player_score', 'comp_score', 'computerHasAce', 'decision'])\n",
    "nc = 0\n",
    "for index, i in data.iterrows():\n",
    "    newr = pd.Series(({'player_score': i.player_score, 'comp_score': i.comp_score, 'computerHasAce': i.computerHasAce, \n",
    "                       'decision': i.decision}))\n",
    "    newr = pd.DataFrame([newr])\n",
    "    if i['decision'] == 0:\n",
    "        data = pd.concat([data,newr], ignore_index=True)\n",
    "        nc +=1\n",
    "        if nc >2000:\n",
    "            break\n",
    "\n",
    "#because there is a large number of values at 0 at bottom of set\n",
    "data = data.sample(frac=1).reset_index(drop=True)\n",
    "            \n",
    "decision = data.decision.values\n",
    "data = data.drop(['decision'], axis=1)\n",
    "data"
   ]
  },
  {
   "cell_type": "code",
   "execution_count": 339,
   "metadata": {},
   "outputs": [
    {
     "name": "stdout",
     "output_type": "stream",
     "text": [
      "Train on 9299 samples, validate on 1034 samples\n",
      "Epoch 1/15\n",
      "9299/9299 [==============================] - 5s 526us/step - loss: 0.8181 - acc: 0.5405 - val_loss: 0.7260 - val_acc: 0.5600\n",
      "Epoch 2/15\n",
      "9299/9299 [==============================] - 2s 169us/step - loss: 0.6479 - acc: 0.6187 - val_loss: 0.5469 - val_acc: 0.7485\n",
      "Epoch 3/15\n",
      "9299/9299 [==============================] - 1s 160us/step - loss: 0.5805 - acc: 0.6905 - val_loss: 0.5096 - val_acc: 0.7447\n",
      "Epoch 4/15\n",
      "9299/9299 [==============================] - 2s 168us/step - loss: 0.5584 - acc: 0.6945 - val_loss: 0.5138 - val_acc: 0.7340\n",
      "Epoch 5/15\n",
      "9299/9299 [==============================] - 2s 166us/step - loss: 0.5085 - acc: 0.7059 - val_loss: 0.4529 - val_acc: 0.7234\n",
      "Epoch 6/15\n",
      "9299/9299 [==============================] - 2s 167us/step - loss: 0.4885 - acc: 0.7038 - val_loss: 0.4764 - val_acc: 0.6625\n",
      "Epoch 7/15\n",
      "9299/9299 [==============================] - 2s 166us/step - loss: 0.4815 - acc: 0.7108 - val_loss: 0.4639 - val_acc: 0.7456\n",
      "Epoch 8/15\n",
      "9299/9299 [==============================] - 2s 175us/step - loss: 0.4798 - acc: 0.7131 - val_loss: 0.4544 - val_acc: 0.7379\n",
      "Epoch 9/15\n",
      "9299/9299 [==============================] - 2s 167us/step - loss: 0.4698 - acc: 0.7270 - val_loss: 0.4545 - val_acc: 0.7331\n",
      "Epoch 10/15\n",
      "9299/9299 [==============================] - 2s 163us/step - loss: 0.4785 - acc: 0.7269 - val_loss: 0.5028 - val_acc: 0.7060\n",
      "Epoch 11/15\n",
      "9299/9299 [==============================] - 2s 164us/step - loss: 0.5038 - acc: 0.7161 - val_loss: 0.4363 - val_acc: 0.7485\n",
      "Epoch 12/15\n",
      "9299/9299 [==============================] - 2s 238us/step - loss: 0.4831 - acc: 0.7137 - val_loss: 0.4280 - val_acc: 0.7505\n",
      "Epoch 13/15\n",
      "9299/9299 [==============================] - 7s 747us/step - loss: 0.4833 - acc: 0.7056 - val_loss: 0.4284 - val_acc: 0.7611\n",
      "Epoch 14/15\n",
      "9299/9299 [==============================] - 5s 557us/step - loss: 0.4489 - acc: 0.7280 - val_loss: 0.5613 - val_acc: 0.7195\n",
      "Epoch 15/15\n",
      "9299/9299 [==============================] - 5s 582us/step - loss: 0.4633 - acc: 0.7346 - val_loss: 0.4130 - val_acc: 0.7573\n"
     ]
    },
    {
     "data": {
      "image/png": "[encoded data removed]",
      "text/plain": [
       "<Figure size 432x288 with 1 Axes>"
      ]
     },
     "metadata": {
      "needs_background": "light"
     },
     "output_type": "display_data"
    }
   ],
   "source": [
    "train_data = np.array(data)\n",
    "train_label = np.array(decision)\n",
    "#test_data = np.array(data[7000:])\n",
    "#test_label = np.array(decision[7000:])\n",
    "from keras import layers, models\n",
    "network = models.Sequential()\n",
    "network.add(layers.Dense(512, activation='tanh', input_shape=(3,)))\n",
    "network.add(layers.Dense(512, activation='tanh'))\n",
    "network.add(layers.Dense(512, activation='tanh'))\n",
    "network.add(layers.Dense(512, activation='tanh'))\n",
    "network.add(layers.Dense(512, activation='tanh'))\n",
    "network.add(layers.Dense(1, activation='sigmoid'))\n",
    "\n",
    "network.compile(optimizer='adam', \n",
    "               loss='binary_crossentropy',\n",
    "               metrics=['accuracy'])\n",
    "\n",
    "hist = network.fit(train_data, train_label, validation_split=.1, epochs=15, batch_size=128)\n",
    "\n",
    "plt.plot(hist.history[\"acc\"])\n",
    "plt.plot(hist.history[\"val_acc\"])\n",
    "plt.title(\"Blackjack Accuracy\")\n",
    "plt.ylabel(\"accuracy\")\n",
    "plt.xlabel(\"epoch\")\n",
    "plt.legend([\"train\", \"val\"], loc=\"upper left\")\n",
    "plt.show()\n",
    "                 \n",
    "#network.fit(train_data, train_label, epochs=15, batch_size=128)"
   ]
  },
  {
   "cell_type": "code",
   "execution_count": null,
   "metadata": {},
   "outputs": [],
   "source": []
  },
  {
   "cell_type": "code",
   "execution_count": 336,
   "metadata": {},
   "outputs": [
    {
     "name": "stdout",
     "output_type": "stream",
     "text": [
      "0.46772476531501017\n"
     ]
    }
   ],
   "source": [
    "count = 0\n",
    "for i in train_label:\n",
    "    if i == 0:\n",
    "        count+=1\n",
    "        \n",
    "print(count/ len(train_label))"
   ]
  },
  {
   "cell_type": "code",
   "execution_count": null,
   "metadata": {},
   "outputs": [],
   "source": []
  },
  {
   "cell_type": "code",
   "execution_count": null,
   "metadata": {},
   "outputs": [],
   "source": []
  },
  {
   "cell_type": "code",
   "execution_count": 337,
   "metadata": {},
   "outputs": [
    {
     "data": {
      "text/html": [
       "<div>\n",
       "<style scoped>\n",
       "    .dataframe tbody tr th:only-of-type {\n",
       "        vertical-align: middle;\n",
       "    }\n",
       "\n",
       "    .dataframe tbody tr th {\n",
       "        vertical-align: top;\n",
       "    }\n",
       "\n",
       "    .dataframe thead th {\n",
       "        text-align: right;\n",
       "    }\n",
       "</style>\n",
       "<table border=\"1\" class=\"dataframe\">\n",
       "  <thead>\n",
       "    <tr style=\"text-align: right;\">\n",
       "      <th></th>\n",
       "      <th>player_score</th>\n",
       "      <th>comp_score</th>\n",
       "      <th>computerHasAce</th>\n",
       "    </tr>\n",
       "  </thead>\n",
       "  <tbody>\n",
       "    <tr>\n",
       "      <th>0</th>\n",
       "      <td>20</td>\n",
       "      <td>21</td>\n",
       "      <td>0</td>\n",
       "    </tr>\n",
       "    <tr>\n",
       "      <th>1</th>\n",
       "      <td>16</td>\n",
       "      <td>10</td>\n",
       "      <td>0</td>\n",
       "    </tr>\n",
       "    <tr>\n",
       "      <th>2</th>\n",
       "      <td>17</td>\n",
       "      <td>18</td>\n",
       "      <td>0</td>\n",
       "    </tr>\n",
       "    <tr>\n",
       "      <th>3</th>\n",
       "      <td>4</td>\n",
       "      <td>16</td>\n",
       "      <td>0</td>\n",
       "    </tr>\n",
       "  </tbody>\n",
       "</table>\n",
       "</div>"
      ],
      "text/plain": [
       "   player_score  comp_score  computerHasAce\n",
       "0            20          21               0\n",
       "1            16          10               0\n",
       "2            17          18               0\n",
       "3             4          16               0"
      ]
     },
     "execution_count": 337,
     "metadata": {},
     "output_type": "execute_result"
    }
   ],
   "source": [
    "new_data = pd.read_csv('newentry.csv', usecols=['player_score', 'comp_score', 'computerHasAce'])\n",
    "new_decision = pd.read_csv('newentry.csv', usecols=['decision'])\n",
    "\n",
    "new_data"
   ]
  },
  {
   "cell_type": "code",
   "execution_count": 338,
   "metadata": {},
   "outputs": [
    {
     "name": "stdout",
     "output_type": "stream",
     "text": [
      "[0]\n",
      "[0]\n",
      "[0]\n",
      "[1]\n",
      "Match\n",
      "No Match\n",
      "Match\n",
      "No Match\n"
     ]
    }
   ],
   "source": [
    "new_data = np.array(new_data)\n",
    "new_decision = np.array(new_decision)\n",
    "\n",
    "predict = network.predict_classes([new_data])\n",
    "for i in predict:\n",
    "    print(i)\n",
    "    \n",
    "    \n",
    "for i in range(len(new_decision)):\n",
    "    if new_decision[i] == predict[i]:\n",
    "        print('Match')\n",
    "    else:\n",
    "        print('No Match')"
   ]
  },
  {
   "cell_type": "code",
   "execution_count": null,
   "metadata": {},
   "outputs": [],
   "source": []
  },
  {
   "cell_type": "code",
   "execution_count": null,
   "metadata": {},
   "outputs": [],
   "source": []
  }
 ],
 "metadata": {
  "kernelspec": {
   "display_name": "Python 3",
   "language": "python",
   "name": "python3"
  },
  "language_info": {
   "codemirror_mode": {
    "name": "ipython",
    "version": 3
   },
   "file_extension": ".py",
   "mimetype": "text/x-python",
   "name": "python",
   "nbconvert_exporter": "python",
   "pygments_lexer": "ipython3",
   "version": "3.7.3"
  }
 },
 "nbformat": 4,
 "nbformat_minor": 4
}
