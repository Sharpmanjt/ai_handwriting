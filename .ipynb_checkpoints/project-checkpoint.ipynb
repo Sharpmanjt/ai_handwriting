{
 "cells": [
  {
   "cell_type": "code",
   "execution_count": 104,
   "metadata": {},
   "outputs": [
    {
     "ename": "UnicodeDecodeError",
     "evalue": "'utf-8' codec can't decode bytes in position 0-1: invalid continuation byte",
     "output_type": "error",
     "traceback": [
      "\u001b[1;31m---------------------------------------------------------------------------\u001b[0m",
      "\u001b[1;31mUnicodeDecodeError\u001b[0m                        Traceback (most recent call last)",
      "\u001b[1;32m<ipython-input-104-c2d2729c4950>\u001b[0m in \u001b[0;36m<module>\u001b[1;34m\u001b[0m\n\u001b[0;32m      3\u001b[0m \u001b[1;32mimport\u001b[0m \u001b[0mpandas\u001b[0m \u001b[1;32mas\u001b[0m \u001b[0mpd\u001b[0m\u001b[1;33m\u001b[0m\u001b[1;33m\u001b[0m\u001b[0m\n\u001b[0;32m      4\u001b[0m \u001b[1;32mimport\u001b[0m \u001b[0mrequests\u001b[0m\u001b[1;33m\u001b[0m\u001b[1;33m\u001b[0m\u001b[0m\n\u001b[1;32m----> 5\u001b[1;33m \u001b[0mdataframe\u001b[0m \u001b[1;33m=\u001b[0m \u001b[0mpd\u001b[0m\u001b[1;33m.\u001b[0m\u001b[0mread_csv\u001b[0m\u001b[1;33m(\u001b[0m\u001b[1;34m'first_and_last_names.csv'\u001b[0m\u001b[1;33m)\u001b[0m\u001b[1;33m\u001b[0m\u001b[1;33m\u001b[0m\u001b[0m\n\u001b[0m\u001b[0;32m      6\u001b[0m \u001b[0mimg_links\u001b[0m \u001b[1;33m=\u001b[0m \u001b[0mdataframe\u001b[0m\u001b[1;33m.\u001b[0m\u001b[0miloc\u001b[0m\u001b[1;33m[\u001b[0m\u001b[1;33m:\u001b[0m\u001b[1;33m,\u001b[0m\u001b[1;33m:\u001b[0m\u001b[1;33m]\u001b[0m\u001b[1;33m\u001b[0m\u001b[1;33m\u001b[0m\u001b[0m\n\u001b[0;32m      7\u001b[0m \u001b[0mimg_numbers\u001b[0m \u001b[1;33m=\u001b[0m \u001b[0mlist\u001b[0m\u001b[1;33m(\u001b[0m\u001b[0mrange\u001b[0m\u001b[1;33m(\u001b[0m\u001b[1;36m0\u001b[0m\u001b[1;33m,\u001b[0m \u001b[1;36m6758\u001b[0m\u001b[1;33m)\u001b[0m\u001b[1;33m)\u001b[0m\u001b[1;33m\u001b[0m\u001b[1;33m\u001b[0m\u001b[0m\n",
      "\u001b[1;32m~\\Anaconda3\\lib\\site-packages\\pandas\\io\\parsers.py\u001b[0m in \u001b[0;36mparser_f\u001b[1;34m(filepath_or_buffer, sep, delimiter, header, names, index_col, usecols, squeeze, prefix, mangle_dupe_cols, dtype, engine, converters, true_values, false_values, skipinitialspace, skiprows, skipfooter, nrows, na_values, keep_default_na, na_filter, verbose, skip_blank_lines, parse_dates, infer_datetime_format, keep_date_col, date_parser, dayfirst, cache_dates, iterator, chunksize, compression, thousands, decimal, lineterminator, quotechar, quoting, doublequote, escapechar, comment, encoding, dialect, error_bad_lines, warn_bad_lines, delim_whitespace, low_memory, memory_map, float_precision)\u001b[0m\n\u001b[0;32m    674\u001b[0m         )\n\u001b[0;32m    675\u001b[0m \u001b[1;33m\u001b[0m\u001b[0m\n\u001b[1;32m--> 676\u001b[1;33m         \u001b[1;32mreturn\u001b[0m \u001b[0m_read\u001b[0m\u001b[1;33m(\u001b[0m\u001b[0mfilepath_or_buffer\u001b[0m\u001b[1;33m,\u001b[0m \u001b[0mkwds\u001b[0m\u001b[1;33m)\u001b[0m\u001b[1;33m\u001b[0m\u001b[1;33m\u001b[0m\u001b[0m\n\u001b[0m\u001b[0;32m    677\u001b[0m \u001b[1;33m\u001b[0m\u001b[0m\n\u001b[0;32m    678\u001b[0m     \u001b[0mparser_f\u001b[0m\u001b[1;33m.\u001b[0m\u001b[0m__name__\u001b[0m \u001b[1;33m=\u001b[0m \u001b[0mname\u001b[0m\u001b[1;33m\u001b[0m\u001b[1;33m\u001b[0m\u001b[0m\n",
      "\u001b[1;32m~\\Anaconda3\\lib\\site-packages\\pandas\\io\\parsers.py\u001b[0m in \u001b[0;36m_read\u001b[1;34m(filepath_or_buffer, kwds)\u001b[0m\n\u001b[0;32m    446\u001b[0m \u001b[1;33m\u001b[0m\u001b[0m\n\u001b[0;32m    447\u001b[0m     \u001b[1;31m# Create the parser.\u001b[0m\u001b[1;33m\u001b[0m\u001b[1;33m\u001b[0m\u001b[1;33m\u001b[0m\u001b[0m\n\u001b[1;32m--> 448\u001b[1;33m     \u001b[0mparser\u001b[0m \u001b[1;33m=\u001b[0m \u001b[0mTextFileReader\u001b[0m\u001b[1;33m(\u001b[0m\u001b[0mfp_or_buf\u001b[0m\u001b[1;33m,\u001b[0m \u001b[1;33m**\u001b[0m\u001b[0mkwds\u001b[0m\u001b[1;33m)\u001b[0m\u001b[1;33m\u001b[0m\u001b[1;33m\u001b[0m\u001b[0m\n\u001b[0m\u001b[0;32m    449\u001b[0m \u001b[1;33m\u001b[0m\u001b[0m\n\u001b[0;32m    450\u001b[0m     \u001b[1;32mif\u001b[0m \u001b[0mchunksize\u001b[0m \u001b[1;32mor\u001b[0m \u001b[0miterator\u001b[0m\u001b[1;33m:\u001b[0m\u001b[1;33m\u001b[0m\u001b[1;33m\u001b[0m\u001b[0m\n",
      "\u001b[1;32m~\\Anaconda3\\lib\\site-packages\\pandas\\io\\parsers.py\u001b[0m in \u001b[0;36m__init__\u001b[1;34m(self, f, engine, **kwds)\u001b[0m\n\u001b[0;32m    878\u001b[0m             \u001b[0mself\u001b[0m\u001b[1;33m.\u001b[0m\u001b[0moptions\u001b[0m\u001b[1;33m[\u001b[0m\u001b[1;34m\"has_index_names\"\u001b[0m\u001b[1;33m]\u001b[0m \u001b[1;33m=\u001b[0m \u001b[0mkwds\u001b[0m\u001b[1;33m[\u001b[0m\u001b[1;34m\"has_index_names\"\u001b[0m\u001b[1;33m]\u001b[0m\u001b[1;33m\u001b[0m\u001b[1;33m\u001b[0m\u001b[0m\n\u001b[0;32m    879\u001b[0m \u001b[1;33m\u001b[0m\u001b[0m\n\u001b[1;32m--> 880\u001b[1;33m         \u001b[0mself\u001b[0m\u001b[1;33m.\u001b[0m\u001b[0m_make_engine\u001b[0m\u001b[1;33m(\u001b[0m\u001b[0mself\u001b[0m\u001b[1;33m.\u001b[0m\u001b[0mengine\u001b[0m\u001b[1;33m)\u001b[0m\u001b[1;33m\u001b[0m\u001b[1;33m\u001b[0m\u001b[0m\n\u001b[0m\u001b[0;32m    881\u001b[0m \u001b[1;33m\u001b[0m\u001b[0m\n\u001b[0;32m    882\u001b[0m     \u001b[1;32mdef\u001b[0m \u001b[0mclose\u001b[0m\u001b[1;33m(\u001b[0m\u001b[0mself\u001b[0m\u001b[1;33m)\u001b[0m\u001b[1;33m:\u001b[0m\u001b[1;33m\u001b[0m\u001b[1;33m\u001b[0m\u001b[0m\n",
      "\u001b[1;32m~\\Anaconda3\\lib\\site-packages\\pandas\\io\\parsers.py\u001b[0m in \u001b[0;36m_make_engine\u001b[1;34m(self, engine)\u001b[0m\n\u001b[0;32m   1112\u001b[0m     \u001b[1;32mdef\u001b[0m \u001b[0m_make_engine\u001b[0m\u001b[1;33m(\u001b[0m\u001b[0mself\u001b[0m\u001b[1;33m,\u001b[0m \u001b[0mengine\u001b[0m\u001b[1;33m=\u001b[0m\u001b[1;34m\"c\"\u001b[0m\u001b[1;33m)\u001b[0m\u001b[1;33m:\u001b[0m\u001b[1;33m\u001b[0m\u001b[1;33m\u001b[0m\u001b[0m\n\u001b[0;32m   1113\u001b[0m         \u001b[1;32mif\u001b[0m \u001b[0mengine\u001b[0m \u001b[1;33m==\u001b[0m \u001b[1;34m\"c\"\u001b[0m\u001b[1;33m:\u001b[0m\u001b[1;33m\u001b[0m\u001b[1;33m\u001b[0m\u001b[0m\n\u001b[1;32m-> 1114\u001b[1;33m             \u001b[0mself\u001b[0m\u001b[1;33m.\u001b[0m\u001b[0m_engine\u001b[0m \u001b[1;33m=\u001b[0m \u001b[0mCParserWrapper\u001b[0m\u001b[1;33m(\u001b[0m\u001b[0mself\u001b[0m\u001b[1;33m.\u001b[0m\u001b[0mf\u001b[0m\u001b[1;33m,\u001b[0m \u001b[1;33m**\u001b[0m\u001b[0mself\u001b[0m\u001b[1;33m.\u001b[0m\u001b[0moptions\u001b[0m\u001b[1;33m)\u001b[0m\u001b[1;33m\u001b[0m\u001b[1;33m\u001b[0m\u001b[0m\n\u001b[0m\u001b[0;32m   1115\u001b[0m         \u001b[1;32melse\u001b[0m\u001b[1;33m:\u001b[0m\u001b[1;33m\u001b[0m\u001b[1;33m\u001b[0m\u001b[0m\n\u001b[0;32m   1116\u001b[0m             \u001b[1;32mif\u001b[0m \u001b[0mengine\u001b[0m \u001b[1;33m==\u001b[0m \u001b[1;34m\"python\"\u001b[0m\u001b[1;33m:\u001b[0m\u001b[1;33m\u001b[0m\u001b[1;33m\u001b[0m\u001b[0m\n",
      "\u001b[1;32m~\\Anaconda3\\lib\\site-packages\\pandas\\io\\parsers.py\u001b[0m in \u001b[0;36m__init__\u001b[1;34m(self, src, **kwds)\u001b[0m\n\u001b[0;32m   1889\u001b[0m         \u001b[0mkwds\u001b[0m\u001b[1;33m[\u001b[0m\u001b[1;34m\"usecols\"\u001b[0m\u001b[1;33m]\u001b[0m \u001b[1;33m=\u001b[0m \u001b[0mself\u001b[0m\u001b[1;33m.\u001b[0m\u001b[0musecols\u001b[0m\u001b[1;33m\u001b[0m\u001b[1;33m\u001b[0m\u001b[0m\n\u001b[0;32m   1890\u001b[0m \u001b[1;33m\u001b[0m\u001b[0m\n\u001b[1;32m-> 1891\u001b[1;33m         \u001b[0mself\u001b[0m\u001b[1;33m.\u001b[0m\u001b[0m_reader\u001b[0m \u001b[1;33m=\u001b[0m \u001b[0mparsers\u001b[0m\u001b[1;33m.\u001b[0m\u001b[0mTextReader\u001b[0m\u001b[1;33m(\u001b[0m\u001b[0msrc\u001b[0m\u001b[1;33m,\u001b[0m \u001b[1;33m**\u001b[0m\u001b[0mkwds\u001b[0m\u001b[1;33m)\u001b[0m\u001b[1;33m\u001b[0m\u001b[1;33m\u001b[0m\u001b[0m\n\u001b[0m\u001b[0;32m   1892\u001b[0m         \u001b[0mself\u001b[0m\u001b[1;33m.\u001b[0m\u001b[0munnamed_cols\u001b[0m \u001b[1;33m=\u001b[0m \u001b[0mself\u001b[0m\u001b[1;33m.\u001b[0m\u001b[0m_reader\u001b[0m\u001b[1;33m.\u001b[0m\u001b[0munnamed_cols\u001b[0m\u001b[1;33m\u001b[0m\u001b[1;33m\u001b[0m\u001b[0m\n\u001b[0;32m   1893\u001b[0m \u001b[1;33m\u001b[0m\u001b[0m\n",
      "\u001b[1;32mpandas\\_libs\\parsers.pyx\u001b[0m in \u001b[0;36mpandas._libs.parsers.TextReader.__cinit__\u001b[1;34m()\u001b[0m\n",
      "\u001b[1;32mpandas\\_libs\\parsers.pyx\u001b[0m in \u001b[0;36mpandas._libs.parsers.TextReader._get_header\u001b[1;34m()\u001b[0m\n",
      "\u001b[1;31mUnicodeDecodeError\u001b[0m: 'utf-8' codec can't decode bytes in position 0-1: invalid continuation byte"
     ]
    }
   ],
   "source": [
    "###BELOW CODE DOES NOT NEED TO BE RUN IN ORDER TO USE PROGRAM - THIS WAS ONLY FOR CROPPING IMAGES###\n",
    "\n",
    "#first, we imported the images from the downloaded csv file for images and names, and pulls the url for images and put them\n",
    "#into an array\n",
    "\n",
    "#dataset acquired from this link https://d1p17r2m4rzlbo.cloudfront.net/wp-content/uploads/2016/07/first_and_last_names.csv\n",
    "import pandas as pd\n",
    "import requests\n",
    "dataframe = pd.read_csv('first_and_last_names.csv', encoding = \"ISO-8859-1\")\n",
    "img_links = dataframe.iloc[:,:]\n",
    "img_numbers = list(range(0, 6758))\n",
    "\n",
    "#because we reduced the number of files, output does not work\n",
    "\n",
    "#Because this function doesn't work, just download the dataset, and eliminate everything other than img 0 to 6758 and proceed\n",
    "#to below steps"
   ]
  },
  {
   "cell_type": "code",
   "execution_count": null,
   "metadata": {},
   "outputs": [],
   "source": [
    "#puts images into a folder based off the unique links for each image\n",
    "for i,url in enumerate(img_links['image_url']):\n",
    "    print('Downloading Image\\t{0}'.format(img_numbers[i]))\n",
    "    image=requests.get(url, stream=True)\n",
    "    if image.status_code==200:\n",
    "        with open(dir+'image_'+str(img_numbers[i])+'.jpg','wb')as f:\n",
    "            for chunk in image.iter_content(1024):\n",
    "                f.write(chunk)"
   ]
  },
  {
   "cell_type": "code",
   "execution_count": 33,
   "metadata": {},
   "outputs": [],
   "source": [
    "#conda update anaconda-navigator  \n",
    "#conda update navigator-updater  \n",
    "#above on cmd\n",
    "#below on anaconda terminal\n",
    "#conda install -c https://conda.binstar.org/menpo opencv\n",
    "import cv2\n",
    "import glob\n",
    "\n",
    "#this function takes all the images in the downloaded images folder, and crops them to get rid of useless content on the left\n",
    "#or bottom\n",
    "\n",
    "i=0 #tracks the file number\n",
    "dir = 'cropped_images/'\n",
    "base_directory = 'downloaded_images/'\n",
    "total_files=len(glob.glob('downloaded_images/*.jpg'))\n",
    "for i in range(total_files):\n",
    "    try:\n",
    "        img = cv2.imread(base_directory+'image_'+str(i)+'.jpg')\n",
    "        img = img[0:36, 74:388]\n",
    "        img = img.copy(order='C')\n",
    "        cv2.imwrite('./cropped_images/img_'+str(i)+'.jpg', img)\n",
    "    except Exception as e: \n",
    "        #error handling\n",
    "        print(e)\n",
    "        continue"
   ]
  },
  {
   "cell_type": "code",
   "execution_count": 771,
   "metadata": {},
   "outputs": [
    {
     "name": "stdout",
     "output_type": "stream",
     "text": [
      "                                                   Word  Count\n",
      "0     [[255, 255, 255, 255, 255, 255, 255, 255, 255,...      7\n",
      "1     [[255, 255, 255, 255, 255, 255, 255, 255, 255,...      5\n",
      "2     [[255, 255, 255, 255, 255, 255, 255, 255, 255,...      5\n",
      "3     [[255, 255, 255, 255, 255, 255, 255, 255, 255,...      6\n",
      "4     [[255, 255, 255, 255, 255, 255, 255, 255, 255,...      7\n",
      "...                                                 ...    ...\n",
      "6754  [[255, 255, 255, 255, 255, 255, 254, 253, 255,...      5\n",
      "6755  [[255, 255, 255, 255, 255, 255, 254, 254, 253,...      7\n",
      "6756  [[255, 255, 255, 255, 255, 255, 255, 255, 253,...      5\n",
      "6757  [[255, 255, 255, 255, 255, 255, 254, 254, 251,...      5\n",
      "6758  [[255, 255, 255, 255, 255, 255, 255, 255, 255,...      5\n",
      "\n",
      "[6759 rows x 2 columns]\n"
     ]
    }
   ],
   "source": [
    "from PIL import Image\n",
    "import glob\n",
    "import numpy as np\n",
    "import pandas as pd\n",
    "import matplotlib.pyplot as plt\n",
    "import matplotlib.image as mpimg\n",
    "#conda install -c conda-forge tabulate\n",
    "from tabulate import tabulate\n",
    "\n",
    "\n",
    "#loads image into an array\n",
    "def load_image( infilename ) :\n",
    "    img = Image.open( infilename )\n",
    "    img.load()\n",
    "    data = np.asarray( img, dtype=\"int32\" )\n",
    "    return data\n",
    "\n",
    "\n",
    "def transpose_image(arr):\n",
    "    #after cropped image was saved, need to reshape as it was saved in 3d and not 2d\n",
    "    arr=arr.transpose(2,0,1).reshape(-1,arr.shape[1])\n",
    "    #attempt to get rid of garbage content above/below written text, as dataset isn't perfect\n",
    "    return arr[6:30, :314]\n",
    "\n",
    "def flip_image(arr):\n",
    "    #in order to read properly for empty spaces top to bottom, array needs to be reversed\n",
    "    from numpy import empty\n",
    "    arr2 = empty([314,24])\n",
    "    for x in range(len(arr)):\n",
    "        for y in range(len(arr[x])):\n",
    "            arr2[y][x] = arr[x][y]\n",
    "    return arr2\n",
    "\n",
    "def streamline_color(arr):\n",
    "    #streamlines color so that background is all one color, and text is another color based on pixel shade\n",
    "    for x in range(len(arr)):\n",
    "        for y in range(len(arr[x])):\n",
    "            if arr[x][y] >=240:\n",
    "                arr[x][y] = 255\n",
    "            if arr[x][y] < 240:\n",
    "                arr[x][y] = 0\n",
    "    return arr\n",
    "   \n",
    "def get_num_chars(arr):\n",
    "    \n",
    "    #function tracks chars based on whether there is any space from top to bottom in current column. If you get from top\n",
    "    #to bottom without hitting a different colored pixel, you know this line is all background. If you hit a pixel, you know\n",
    "    #you're on a letter. once you hit a letter, you continue until you get to an entire column with solid background. \n",
    "    #Once there, you know you've hit the space, so increment count by 1 and you know you're no longer on a character\n",
    "    \n",
    "    count = 0 #tracks number of chars\n",
    "    onChar = False #tracks if you are currently in a char\n",
    "    for x in range(len(arr2)):\n",
    "        for y in range(len(arr2[x])):\n",
    "            if arr2[x][y] <= 240: \n",
    "                if onChar == False:\n",
    "                    onChar = True\n",
    "                break\n",
    "            if y == len(arr2[x])-1 and onChar == True:\n",
    "                count+=1\n",
    "                onChar = False\n",
    "    #returns character count in image\n",
    "    return count\n",
    "\n",
    "arr1 = load_image('cropped_images/img_0.jpg')\n",
    "arr1 = transpose_image(arr1)\n",
    "arr2 = flip_image(arr1)\n",
    "arr2 = streamline_color(arr2)\n",
    "count = get_num_chars(arr2)\n",
    "data = [arr1, count]\n",
    "df = pd.DataFrame([[arr1, count]], columns=['Word', 'Count'])\n",
    "\n",
    "#establish dataframe\n",
    "\n",
    "base_directory = 'cropped_images/'\n",
    "total_files=len(glob.glob('cropped_images/*.jpg'))\n",
    "\n",
    "for i in range(1, total_files):\n",
    "    arr1 = load_image(base_directory+'img_'+str(i)+'.jpg')\n",
    "    arr1 = transpose_image(arr1)\n",
    "    arr2 = flip_image(arr1)\n",
    "    arr2 = streamline_color(arr2)\n",
    "    count = get_num_chars(arr2)\n",
    "    data2 = [arr1, count]\n",
    "    new_row = pd.DataFrame([[arr1, count]], columns=['Word', 'Count'])\n",
    "    df = pd.concat([df, new_row], ignore_index=True)\n",
    "print(df)"
   ]
  },
  {
   "cell_type": "code",
   "execution_count": 786,
   "metadata": {},
   "outputs": [],
   "source": [
    "#break apart training/ testing data. reset index is used so that test starts and index 0 and not 5406\n",
    "train_data = df.Word[0:5406]\n",
    "train_label = df.Count[0:5406]\n",
    "test_data = df.Word[5406:].reset_index()\n",
    "test_data = test_data.Word\n",
    "test_label = df.Count[5406:].reset_index()\n",
    "test_label = test_label.Count"
   ]
  },
  {
   "cell_type": "code",
   "execution_count": 787,
   "metadata": {
    "scrolled": true
   },
   "outputs": [],
   "source": [
    "new_train = []\n",
    "new_train_label = []\n",
    "new_test = []\n",
    "new_test_label = []\n",
    "\n",
    "#this puts the df values into a list to get rid of whatever double arrays the df generated\n",
    "\n",
    "def return_list(arr, newarr):\n",
    "    for i in range(len(arr)):\n",
    "        for j in range(len(arr[i])):\n",
    "            arr[i][j] = np.array(arr[i][j])\n",
    "        newarr.append(arr[i])\n",
    "    return newarr\n",
    "\n",
    "def return_list_label(arr, newarr):\n",
    "    for i in range(len(arr)):\n",
    "        newarr.append(arr[i])\n",
    "    return newarr\n",
    "\n",
    "new_train = return_list(train_data, new_train)\n",
    "new_test = return_list(test_data, new_test)\n",
    "\n",
    "#POSSIBLY NOT NEEDED\n",
    "#new_train_label = return_list_label(train_label, new_train_label)\n",
    "#new_test_label = return_list_label(test_label, new_test_label)\n",
    "\n",
    "new_train = np.array(new_train)\n",
    "new_test = np.array(new_test)\n",
    "\n",
    "#POSSIBLY NOT NEEDED\n",
    "#new_train_label = np.array(new_train_label)\n",
    "#new_test_label = np.array(new_test)"
   ]
  },
  {
   "cell_type": "code",
   "execution_count": null,
   "metadata": {},
   "outputs": [],
   "source": []
  },
  {
   "cell_type": "code",
   "execution_count": null,
   "metadata": {},
   "outputs": [],
   "source": [
    "\n",
    "\n"
   ]
  },
  {
   "cell_type": "code",
   "execution_count": null,
   "metadata": {},
   "outputs": [],
   "source": []
  },
  {
   "cell_type": "code",
   "execution_count": 892,
   "metadata": {},
   "outputs": [],
   "source": [
    "from keras import layers, models\n",
    "network = models.Sequential()\n",
    "network.add(layers.Dense(512, activation='tanh', input_shape=(24*314,)))\n",
    "network.add(layers.Dense(32, activation='tanh'))\n",
    "network.add(layers.Dense(28, activation='tanh'))\n",
    "network.add(layers.Dense(20, activation='tanh'))\n",
    "network.add(layers.Dense(12, activation='tanh'))\n",
    "network.add(layers.Dense(10, activation='tanh'))\n",
    "network.add(layers.Dense(8, activation='tanh'))\n",
    "network.add(layers.Dense(6, activation='tanh'))\n",
    "network.add(layers.Dense(4, activation='tanh'))\n",
    "network.add(layers.Dense(24, activation='tanh'))"
   ]
  },
  {
   "cell_type": "code",
   "execution_count": null,
   "metadata": {},
   "outputs": [],
   "source": []
  },
  {
   "cell_type": "code",
   "execution_count": 893,
   "metadata": {},
   "outputs": [],
   "source": [
    "network.compile(optimizer='rmsprop', \n",
    "               loss='sparse_categorical_crossentropy',\n",
    "               metrics=['accuracy'])"
   ]
  },
  {
   "cell_type": "code",
   "execution_count": 894,
   "metadata": {},
   "outputs": [
    {
     "name": "stdout",
     "output_type": "stream",
     "text": [
      "Epoch 1/5\n",
      "5406/5406 [==============================] - 8s 1ms/step - loss: 5.8099 - acc: 0.1267\n",
      "Epoch 2/5\n",
      "5406/5406 [==============================] - 3s 568us/step - loss: 3.7643 - acc: 0.1885 0s - loss: 3.8040 - acc: \n",
      "Epoch 3/5\n",
      "5406/5406 [==============================] - 3s 542us/step - loss: 3.3693 - acc: 0.2101\n",
      "Epoch 4/5\n",
      "5406/5406 [==============================] - 3s 590us/step - loss: 3.5853 - acc: 0.1728\n",
      "Epoch 5/5\n",
      "5406/5406 [==============================] - 3s 537us/step - loss: 3.6178 - acc: 0.1987\n"
     ]
    },
    {
     "data": {
      "text/plain": [
       "<keras.callbacks.History at 0x249117bea58>"
      ]
     },
     "execution_count": 894,
     "metadata": {},
     "output_type": "execute_result"
    }
   ],
   "source": [
    "from keras.utils import to_categorical\n",
    "\n",
    "new_train = new_train.reshape((5406, 24*314))\n",
    "new_test = new_test.reshape((1353, 24*314))\n",
    "\n",
    "#POSSIBLY NOT NEEDED DUE TO LOSS FUNCTION USED, MAY STILL NEED\n",
    "#new_train_label2 = pd.Series(new_train_label)\n",
    "#new_train_label2 = new_train_label2.astype('int')\n",
    "\n",
    "#new_test_label2 = pd.Series(new_test_label)\n",
    "#new_test_label2 = new_test_label2.astype('int')\n",
    "\n",
    "#new_train_label2 = np.array(new_train_label2)\n",
    "#new_test_label2 = np.array(new_test_label2)\n",
    "#new_train_label2 = new_train_label2.to_categorical\n",
    "#new_test_label2 = new_test_label2.to_categorical\n",
    "\n",
    "#train_label = train_label.to_categorical\n",
    "#test_label = test_label.to_categorical\n",
    "\n",
    "network.fit(new_train, train_label, epochs=5, batch_size=128)"
   ]
  },
  {
   "cell_type": "code",
   "execution_count": 895,
   "metadata": {},
   "outputs": [
    {
     "name": "stdout",
     "output_type": "stream",
     "text": [
      "1353/1353 [==============================] - 2s 1ms/step\n"
     ]
    },
    {
     "data": {
      "text/plain": [
       "[3.227964394284634, 0.19512195123052561]"
      ]
     },
     "execution_count": 895,
     "metadata": {},
     "output_type": "execute_result"
    }
   ],
   "source": [
    "network.evaluate(new_test, test_label)"
   ]
  },
  {
   "cell_type": "code",
   "execution_count": 896,
   "metadata": {},
   "outputs": [],
   "source": [
    "predict = network.predict(new_test)"
   ]
  },
  {
   "cell_type": "code",
   "execution_count": null,
   "metadata": {},
   "outputs": [],
   "source": []
  },
  {
   "cell_type": "code",
   "execution_count": null,
   "metadata": {},
   "outputs": [],
   "source": []
  },
  {
   "cell_type": "code",
   "execution_count": null,
   "metadata": {},
   "outputs": [],
   "source": []
  },
  {
   "cell_type": "code",
   "execution_count": null,
   "metadata": {},
   "outputs": [],
   "source": []
  },
  {
   "cell_type": "code",
   "execution_count": null,
   "metadata": {},
   "outputs": [],
   "source": []
  }
 ],
 "metadata": {
  "kernelspec": {
   "display_name": "Python 3",
   "language": "python",
   "name": "python3"
  },
  "language_info": {
   "codemirror_mode": {
    "name": "ipython",
    "version": 3
   },
   "file_extension": ".py",
   "mimetype": "text/x-python",
   "name": "python",
   "nbconvert_exporter": "python",
   "pygments_lexer": "ipython3",
   "version": "3.7.3"
  }
 },
 "nbformat": 4,
 "nbformat_minor": 2
}
